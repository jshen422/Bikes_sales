{
  "nbformat": 4,
  "nbformat_minor": 0,
  "metadata": {
    "colab": {
      "provenance": [],
      "authorship_tag": "ABX9TyPv1/zEgidg7Nj+F5WCNSNv",
      "include_colab_link": true
    },
    "kernelspec": {
      "name": "python3",
      "display_name": "Python 3"
    },
    "language_info": {
      "name": "python"
    }
  },
  "cells": [
    {
      "cell_type": "markdown",
      "metadata": {
        "id": "view-in-github",
        "colab_type": "text"
      },
      "source": [
        "<a href=\"https://colab.research.google.com/github/jshen422/store_app/blob/main/Store_app.ipynb\" target=\"_parent\"><img src=\"https://colab.research.google.com/assets/colab-badge.svg\" alt=\"Open In Colab\"/></a>"
      ]
    },
    {
      "cell_type": "markdown",
      "source": [
        "# New Section"
      ],
      "metadata": {
        "id": "MsyPaTrCLqeA"
      }
    },
    {
      "cell_type": "code",
      "execution_count": null,
      "metadata": {
        "id": "tCOTwRWTLa-S"
      },
      "outputs": [],
      "source": [
        "from appJar import gui\n",
        "import pandas\n",
        "cart = ' '\n",
        "total = float()\n"
      ]
    },
    {
      "cell_type": "code",
      "source": [
        "def user_greeting(store_greeting, sentinel, input_one, input_two):\n",
        "    userinput = ' '\n",
        "    user = sentinel\n",
        "    print(store_greeting)\n",
        "    while user == sentinel:\n",
        "        userinput = input(input_one)\n",
        "        user = input(input_two)\n",
        "    if userinput == \"Accessories\":\n",
        "        print()\n",
        "        accessories(\"Welcome to the Accessories section of our store! We currently have these items in stock:\"\n",
        "                    , accessorieslist\n",
        "                    , \"Please select which accessories to buy or exit. \")\n",
        "    elif userinput == \"Outerwear\":\n",
        "        print()\n",
        "        outerwear(\"Welcome to the Outerwear section of our store! We currently have these items in stock:\"\n",
        "                  , outerwearlist\n",
        "                  , \"Please select which outerwear to buy or exit. \")\n",
        "    elif userinput == \"Socks\":\n",
        "        print()\n",
        "        socks(\"Welcome to the Socks section of our store! We currently have these items in stock:\"\n",
        "              , sockslist\n",
        "              , \"Please select which socks to buy or exit. \")\n",
        "    else:\n",
        "        print()\n",
        "        print('Unfortunately, we do not have those items in our store. We hope to see you again soon!')\n"
      ],
      "metadata": {
        "id": "wCVLnDgOMMAi"
      },
      "execution_count": null,
      "outputs": []
    },
    {
      "cell_type": "code",
      "source": [
        "def accessories(intro, item_selection, chosen_item):\n",
        "    print(intro)\n",
        "    for item in item_selection:\n",
        "        print(item)\n",
        "    accessories_pick = input(chosen_item)\n",
        "    if accessories_pick == \"exit\":\n",
        "        print(\"Goodbye, have a nice day!\")\n",
        "    elif accessories_pick == \"Hats\":\n",
        "        c_statement(\"Hats\", 25, \"Enjoy your Hats!\")\n",
        "    elif accessories_pick == \"Handbags\":\n",
        "        c_statement(\"Handbags\", 15, \"Enjoy your Handbags!\")\n",
        "    else:\n",
        "        c_statement(\"Watches\", 17, \"Enjoy your Watches!\")\n"
      ],
      "metadata": {
        "id": "rSBARVx7MaOm"
      },
      "execution_count": null,
      "outputs": []
    },
    {
      "cell_type": "code",
      "source": [
        "def outerwear(intro, item_selection, chosen_item):\n",
        "    print(intro)\n",
        "    for item in item_selection:\n",
        "        print(item)\n",
        "    outerwear_pick = input(chosen_item)\n",
        "    if outerwear_pick == \"exit\":\n",
        "        print(\"Goodbye, have a nice day!\")\n",
        "    elif outerwear_pick == \"Jacket\":\n",
        "        c_statement(\"Jacket\", 25, \"Enjoy your Jacket!\")\n",
        "    elif outerwear_pick == \"Hoodie\":\n",
        "        c_statement(\"Hoodie\", 15, \"Enjoy your Hoodie!\")\n",
        "    else:\n",
        "        c_statement(\"Cardigans\", 17, \"Enjoy your Cardigans!\")"
      ],
      "metadata": {
        "id": "xqK2ZEH-MgsX"
      },
      "execution_count": null,
      "outputs": []
    },
    {
      "cell_type": "code",
      "source": [
        "def socks(intro, item_selection, chosen_item):\n",
        "    print(intro)\n",
        "    for item in item_selection:\n",
        "        print(item)\n",
        "    socks_pick = input(chosen_item)\n",
        "    if socks_pick == \"exit\":\n",
        "        print(\"Goodbye, have a nice day!\")\n",
        "    elif socks_pick == \"Short\":\n",
        "        c_statement(\"Short\", 25, \"Enjoy your Short Socks!\")\n",
        "    elif socks_pick == \"Long\":\n",
        "        c_statement(\"Long\", 15, \"Enjoy your Long Socks!\")\n",
        "    else:\n",
        "        c_statement(\"Dress\", 17, \"Enjoy your Dress Socks!\")\n"
      ],
      "metadata": {
        "id": "19aJjI-6MlHg"
      },
      "execution_count": null,
      "outputs": []
    },
    {
      "cell_type": "code",
      "source": [
        "def c_statement(selected_item, price, closing):\n",
        "    print()\n",
        "    global cart\n",
        "    global total\n",
        "    cart = cart + selected_item\n",
        "    total = total + price\n",
        "    plus_tax = total * 1.09\n",
        "    print('Cart:' + str(cart))\n",
        "    print(\"The price of the item you chose\", selected_item + \", is $\" + str(price))\n",
        "    print(\"Your total cost is $%.2f\" % plus_tax)\n",
        "    extra = input(\"Would you like to pick another item (y/n)? \")\n",
        "    if extra == \"y\":\n",
        "        print()\n",
        "        user_greeting(\"Fantastic!\", \"n\",\n",
        "                      \"Which section of our store would you like to browse (Accessories, Outerwear, Socks)? \"\n",
        "                      , \"Ready to browse (y/n)? \")\n",
        "    else:\n",
        "        print()\n",
        "        for l in closing:\n",
        "            print(l)\n"
      ],
      "metadata": {
        "id": "Mn0ouwHsMsmL"
      },
      "execution_count": null,
      "outputs": []
    },
    {
      "cell_type": "code",
      "source": [
        "def notice():\n",
        "    print()\n",
        "    print(\"Our next selection of items will be coming to the store soon.\")\n",
        "\n",
        "\n",
        "def press(btn):\n",
        "    if btn == \"Exit\":\n",
        "        app.stop()\n",
        "    elif btn == \"Greeting\":\n",
        "        print()\n",
        "        user_greeting(\"Welcome to the Fashionable Store\", \"n\"\n",
        "                      , \"Which section of our store would you like to browse (Accessories, Outerwear, Socks)? \"\n",
        "                      , \"Are you ready to browse our selections (y/n)? \")\n",
        "    elif btn == \"Accessories\":\n",
        "        print()\n",
        "        accessories(\"Welcome to the Accessories section of our store! We currently have these items in stock:\"\n",
        "                    , accessorieslist\n",
        "                    , \"Please select which accessories to buy or exit. \")\n",
        "    elif btn == \"Outerwear\":\n",
        "        print()\n",
        "        outerwear(\"Welcome to the Outerwear section of our store! We currently have these items in stock:\"\n",
        "                  , outerwearlist\n",
        "                  , \"Please select which outerwear to buy or exit. \")\n",
        "    elif btn == \"Socks\":\n",
        "        print()\n",
        "        socks(\"Welcome to the Socks section of our store! We currently have these items in stock:\"\n",
        "              , sockslist\n",
        "              , \"Please select which socks to buy or exit. \")\n",
        "    elif btn == \"Notice\":\n",
        "        notice()\n",
        "    else:\n",
        "        print()\n",
        "        print('Please choose an available option')\n"
      ],
      "metadata": {
        "id": "IpXgswoMMvzF"
      },
      "execution_count": null,
      "outputs": []
    },
    {
      "cell_type": "code",
      "source": [
        "app = gui(\"Main Menu\", \"500x500\")\n",
        "\n",
        "app.addLabel(\"title\", \"Welcome to the Fashionable Store Team's Main Menu\")\n",
        "app.setLabelBg(\"title\", \"pink\")\n",
        "\n",
        "app.addImage(\"decor\", \"os.gif\")\n",
        "app.setFont(20)\n",
        "\n",
        "app.addButton(\"Greeting\", press)\n",
        "app.addButton(\"Accessories\", press)\n",
        "app.addButton(\"Outerwear\", press)\n",
        "app.addButton(\"Socks\", press)\n",
        "app.addButton(\"Notice\", press)\n",
        "app.addButton(\"Exit\", press)\n",
        "app.go()"
      ],
      "metadata": {
        "id": "o2-0dCOaMzHX"
      },
      "execution_count": null,
      "outputs": []
    }
  ]
}